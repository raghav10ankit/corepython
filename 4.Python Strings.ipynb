{
 "cells": [
  {
   "cell_type": "markdown",
   "id": "6c6249ea",
   "metadata": {},
   "source": [
    "# Strings:"
   ]
  },
  {
   "cell_type": "markdown",
   "id": "2fe7d6bc",
   "metadata": {},
   "source": [
    "<h4> Strings are the sequence of characters enclosed within single('') , double(\"\") or triple quotes(''' ''')"
   ]
  },
  {
   "cell_type": "markdown",
   "id": "f48be260",
   "metadata": {},
   "source": [
    "Examples: \n",
    "  <h5> 'Hello' , \"Hello\" , '''Hello'''"
   ]
  },
  {
   "cell_type": "code",
   "execution_count": 5,
   "id": "cbc17d45",
   "metadata": {},
   "outputs": [
    {
     "name": "stdout",
     "output_type": "stream",
     "text": [
      "Single quote str\n"
     ]
    }
   ],
   "source": [
    "str1 = 'Single quote str'\n",
    "print(str1)"
   ]
  },
  {
   "cell_type": "code",
   "execution_count": 6,
   "id": "34907a18",
   "metadata": {},
   "outputs": [
    {
     "name": "stdout",
     "output_type": "stream",
     "text": [
      "Double Quote str\n"
     ]
    }
   ],
   "source": [
    "str2 = \"Double Quote str\"\n",
    "print(str2)"
   ]
  },
  {
   "cell_type": "code",
   "execution_count": 8,
   "id": "25b301f8",
   "metadata": {},
   "outputs": [
    {
     "name": "stdout",
     "output_type": "stream",
     "text": [
      "this is triple quote strings ......\n",
      "\n",
      "this is used for multiple libnes\n"
     ]
    }
   ],
   "source": [
    "str3 = '''this is triple quote strings ......\n",
    "\n",
    "this is used for multiple libnes'''\n",
    "\n",
    "print(str3)"
   ]
  },
  {
   "cell_type": "markdown",
   "id": "859d3d99",
   "metadata": {},
   "source": [
    "<h3> Extracting individual charcaters from strings\n",
    "    <h5> To extract this , we use indexing \n",
    "        "
   ]
  },
  {
   "cell_type": "code",
   "execution_count": 10,
   "id": "b09adee4",
   "metadata": {},
   "outputs": [
    {
     "name": "stdout",
     "output_type": "stream",
     "text": [
      "t\n"
     ]
    }
   ],
   "source": [
    "# examples: \n",
    "\n",
    "str = \"Ankit Raghav\"\n",
    "print(str[4])"
   ]
  },
  {
   "cell_type": "code",
   "execution_count": 11,
   "id": "0bdba9bb",
   "metadata": {},
   "outputs": [],
   "source": [
    "# we can also use negative indexing which works from end of string"
   ]
  },
  {
   "cell_type": "code",
   "execution_count": 12,
   "id": "156495f6",
   "metadata": {},
   "outputs": [
    {
     "name": "stdout",
     "output_type": "stream",
     "text": [
      "v\n"
     ]
    }
   ],
   "source": [
    "# eg: \n",
    "\n",
    "print(str[-1])"
   ]
  },
  {
   "cell_type": "code",
   "execution_count": 14,
   "id": "2441a1b0",
   "metadata": {},
   "outputs": [
    {
     "name": "stdout",
     "output_type": "stream",
     "text": [
      "A\n"
     ]
    }
   ],
   "source": [
    "print(str[-12])"
   ]
  },
  {
   "cell_type": "code",
   "execution_count": 18,
   "id": "920e3f92",
   "metadata": {},
   "outputs": [
    {
     "name": "stdout",
     "output_type": "stream",
     "text": [
      "Raghav\n"
     ]
    }
   ],
   "source": [
    "# to extract charcters in range  :\n",
    "print(str[6:])"
   ]
  },
  {
   "cell_type": "code",
   "execution_count": 20,
   "id": "07039837",
   "metadata": {},
   "outputs": [
    {
     "name": "stdout",
     "output_type": "stream",
     "text": [
      "Ankit\n"
     ]
    }
   ],
   "source": [
    "print(str[:5])"
   ]
  },
  {
   "cell_type": "code",
   "execution_count": 21,
   "id": "b441386a",
   "metadata": {},
   "outputs": [
    {
     "name": "stdout",
     "output_type": "stream",
     "text": [
      "it Ra\n"
     ]
    }
   ],
   "source": [
    "print(str[3:8])"
   ]
  },
  {
   "cell_type": "code",
   "execution_count": 26,
   "id": "53967247",
   "metadata": {},
   "outputs": [
    {
     "name": "stdout",
     "output_type": "stream",
     "text": [
      "it Ra\n"
     ]
    }
   ],
   "source": [
    "print(str[-9:-4])"
   ]
  },
  {
   "cell_type": "markdown",
   "id": "e1297187",
   "metadata": {},
   "source": [
    "<h3>Concatenation i strings:"
   ]
  },
  {
   "cell_type": "markdown",
   "id": "c58df79b",
   "metadata": {},
   "source": [
    "<h4> Concatenation means ot join two or more strings . We use (+) concatenate operator for this"
   ]
  },
  {
   "cell_type": "code",
   "execution_count": 27,
   "id": "0746fb3a",
   "metadata": {},
   "outputs": [
    {
     "name": "stdout",
     "output_type": "stream",
     "text": [
      "AnkitRaghav\n"
     ]
    }
   ],
   "source": [
    "# eg: \n",
    "\n",
    "str1 = \"Ankit\"\n",
    "str2 = \"Raghav\"\n",
    "print(str1+str2)"
   ]
  },
  {
   "cell_type": "code",
   "execution_count": 28,
   "id": "fed2d0ac",
   "metadata": {},
   "outputs": [
    {
     "ename": "TypeError",
     "evalue": "can only concatenate str (not \"int\") to str",
     "output_type": "error",
     "traceback": [
      "\u001b[1;31m---------------------------------------------------------------------------\u001b[0m",
      "\u001b[1;31mTypeError\u001b[0m                                 Traceback (most recent call last)",
      "\u001b[1;32m<ipython-input-28-3656218252b6>\u001b[0m in \u001b[0;36m<module>\u001b[1;34m\u001b[0m\n\u001b[0;32m      3\u001b[0m \u001b[0ms\u001b[0m \u001b[1;33m=\u001b[0m \u001b[1;34m\" Ankit\"\u001b[0m\u001b[1;33m\u001b[0m\u001b[1;33m\u001b[0m\u001b[0m\n\u001b[0;32m      4\u001b[0m \u001b[0mi\u001b[0m \u001b[1;33m=\u001b[0m \u001b[1;36m23\u001b[0m\u001b[1;33m\u001b[0m\u001b[1;33m\u001b[0m\u001b[0m\n\u001b[1;32m----> 5\u001b[1;33m \u001b[0mprint\u001b[0m\u001b[1;33m(\u001b[0m\u001b[0ms\u001b[0m\u001b[1;33m+\u001b[0m\u001b[0mi\u001b[0m\u001b[1;33m)\u001b[0m\u001b[1;33m\u001b[0m\u001b[1;33m\u001b[0m\u001b[0m\n\u001b[0m",
      "\u001b[1;31mTypeError\u001b[0m: can only concatenate str (not \"int\") to str"
     ]
    }
   ],
   "source": [
    "# in python we cant concatrnate string to integers , if we do the it gives error\n",
    "\n",
    "s = \" Ankit\"\n",
    "i = 23\n",
    "print(s+i)"
   ]
  },
  {
   "cell_type": "code",
   "execution_count": 30,
   "id": "1fc8101e",
   "metadata": {},
   "outputs": [],
   "source": [
    "# it shows eror because + operator use as addition for integers only and use as concatenation for strings only \n",
    "# when we use both at same time the it fails to works and error occured"
   ]
  },
  {
   "cell_type": "markdown",
   "id": "c9e53158",
   "metadata": {},
   "source": [
    "<h5>String is a immutable data type in which we cannot change or assign new value to characters of strings by using indexing \n",
    "<h5>We only can assess the charcters "
   ]
  },
  {
   "cell_type": "code",
   "execution_count": 31,
   "id": "d873155d",
   "metadata": {},
   "outputs": [
    {
     "ename": "TypeError",
     "evalue": "'str' object does not support item assignment",
     "output_type": "error",
     "traceback": [
      "\u001b[1;31m---------------------------------------------------------------------------\u001b[0m",
      "\u001b[1;31mTypeError\u001b[0m                                 Traceback (most recent call last)",
      "\u001b[1;32m<ipython-input-31-f852004af000>\u001b[0m in \u001b[0;36m<module>\u001b[1;34m\u001b[0m\n\u001b[0;32m      3\u001b[0m \u001b[1;33m\u001b[0m\u001b[0m\n\u001b[0;32m      4\u001b[0m \u001b[0ms1\u001b[0m \u001b[1;33m=\u001b[0m \u001b[1;34m\"Ankit\"\u001b[0m\u001b[1;33m\u001b[0m\u001b[1;33m\u001b[0m\u001b[0m\n\u001b[1;32m----> 5\u001b[1;33m \u001b[0ms1\u001b[0m\u001b[1;33m[\u001b[0m\u001b[1;36m0\u001b[0m\u001b[1;33m]\u001b[0m \u001b[1;33m=\u001b[0m \u001b[1;34m\"a\"\u001b[0m\u001b[1;33m\u001b[0m\u001b[1;33m\u001b[0m\u001b[0m\n\u001b[0m\u001b[0;32m      6\u001b[0m \u001b[0mprint\u001b[0m\u001b[1;33m(\u001b[0m\u001b[0ms1\u001b[0m\u001b[1;33m)\u001b[0m\u001b[1;33m\u001b[0m\u001b[1;33m\u001b[0m\u001b[0m\n",
      "\u001b[1;31mTypeError\u001b[0m: 'str' object does not support item assignment"
     ]
    }
   ],
   "source": [
    "# if we try to change the characters by indexing then it shows error\n",
    "# eg:\n",
    "\n",
    "s1 = \"Ankit\"\n",
    "s1[0] = \"a\"\n",
    "print(s1)"
   ]
  },
  {
   "cell_type": "code",
   "execution_count": 32,
   "id": "18102770",
   "metadata": {},
   "outputs": [],
   "source": [
    "# here we got error string doesnt allow item assignment"
   ]
  },
  {
   "cell_type": "markdown",
   "id": "74d676b0",
   "metadata": {},
   "source": [
    "# Methods of Strings:\n"
   ]
  },
  {
   "cell_type": "markdown",
   "id": "ae8b47d6",
   "metadata": {},
   "source": [
    "<h4> 1. len(): \n",
    "    "
   ]
  },
  {
   "cell_type": "code",
   "execution_count": 33,
   "id": "fb59837d",
   "metadata": {},
   "outputs": [
    {
     "name": "stdout",
     "output_type": "stream",
     "text": [
      "12\n"
     ]
    }
   ],
   "source": [
    "# len method used to find the length of any string\n",
    "\n",
    "my_str = \"Ankit Raghav\"\n",
    "print(len(my_str))"
   ]
  },
  {
   "cell_type": "code",
   "execution_count": 35,
   "id": "8ca300e6",
   "metadata": {},
   "outputs": [],
   "source": [
    "# now we get the length of our string\n",
    "# it also count symbols, spaces etc"
   ]
  },
  {
   "cell_type": "markdown",
   "id": "827612ce",
   "metadata": {},
   "source": [
    "<h4>2. lower() </h4>\n",
    "\n",
    "\n",
    "It converts the whole string in lower case "
   ]
  },
  {
   "cell_type": "code",
   "execution_count": 38,
   "id": "b930ee32",
   "metadata": {},
   "outputs": [
    {
     "name": "stdout",
     "output_type": "stream",
     "text": [
      "ankit raghav\n"
     ]
    }
   ],
   "source": [
    "# eg: \n",
    "\n",
    "print(my_str.lower())"
   ]
  },
  {
   "cell_type": "markdown",
   "id": "5eb75474",
   "metadata": {},
   "source": [
    "<h4>2. upper() </h4>\n",
    "\n",
    "\n",
    "It converts the whole string in upper case "
   ]
  },
  {
   "cell_type": "code",
   "execution_count": 39,
   "id": "e713acad",
   "metadata": {},
   "outputs": [
    {
     "name": "stdout",
     "output_type": "stream",
     "text": [
      "ANKIT RAGHAV\n"
     ]
    }
   ],
   "source": [
    "#eg: \n",
    "\n",
    "print(my_str.upper())"
   ]
  },
  {
   "cell_type": "markdown",
   "id": "dd64037a",
   "metadata": {},
   "source": [
    "<h4>3. replace() </h4>\n",
    "\n",
    "\n",
    "It replaces any character of string with another character which we cant able to do by indexing"
   ]
  },
  {
   "cell_type": "code",
   "execution_count": 40,
   "id": "c9bb8963",
   "metadata": {},
   "outputs": [
    {
     "data": {
      "text/plain": [
       "'ankit Raghav'"
      ]
     },
     "execution_count": 40,
     "metadata": {},
     "output_type": "execute_result"
    }
   ],
   "source": [
    "# eg: \n",
    "\n",
    "my_str.replace('A','a')"
   ]
  },
  {
   "cell_type": "markdown",
   "id": "d0f0f13a",
   "metadata": {},
   "source": [
    "<h4>4. count() </h4>\n",
    "\n",
    "\n",
    "It counts the number or repeatition of any character or grou of character in a string "
   ]
  },
  {
   "cell_type": "code",
   "execution_count": 41,
   "id": "f93ef6df",
   "metadata": {},
   "outputs": [
    {
     "data": {
      "text/plain": [
       "2"
      ]
     },
     "execution_count": 41,
     "metadata": {},
     "output_type": "execute_result"
    }
   ],
   "source": [
    "# eg: \n",
    "\n",
    "my_str.count('a')"
   ]
  },
  {
   "cell_type": "code",
   "execution_count": 47,
   "id": "afdbcb6e",
   "metadata": {},
   "outputs": [
    {
     "name": "stdout",
     "output_type": "stream",
     "text": [
      "3\n",
      "2\n"
     ]
    }
   ],
   "source": [
    "#eg2:\n",
    "my_str2 = \"Ankit Ankit is my name name name\"\n",
    "print(my_str2.count('name'))\n",
    "print(my_str2.count(\"Ankit\"))"
   ]
  },
  {
   "cell_type": "markdown",
   "id": "0ac900f2",
   "metadata": {},
   "source": [
    "<h4>5. find() </h4>\n",
    "\n",
    "\n",
    "It is used to find the index value of any character in string"
   ]
  },
  {
   "cell_type": "code",
   "execution_count": 50,
   "id": "d681d934",
   "metadata": {},
   "outputs": [
    {
     "data": {
      "text/plain": [
       "7"
      ]
     },
     "execution_count": 50,
     "metadata": {},
     "output_type": "execute_result"
    }
   ],
   "source": [
    "# eg: here string is \"Ankit Raghav\"\n",
    "\n",
    "my_str.find('a')"
   ]
  },
  {
   "cell_type": "markdown",
   "id": "70981d90",
   "metadata": {},
   "source": [
    "<h4>6. split() </h4>\n",
    "\n",
    "\n",
    "It is used to separate any string into a list by any specific charcter"
   ]
  },
  {
   "cell_type": "code",
   "execution_count": 51,
   "id": "33544b7a",
   "metadata": {},
   "outputs": [
    {
     "data": {
      "text/plain": [
       "['Ankit', 'Raghav', 'Btech', 'DataAnalysis', 'DataScience']"
      ]
     },
     "execution_count": 51,
     "metadata": {},
     "output_type": "execute_result"
    }
   ],
   "source": [
    "#eg: \n",
    "my_str3 = \"Ankit,Raghav,Btech,DataAnalysis,DataScience\"\n",
    "my_str3.split(',')"
   ]
  },
  {
   "cell_type": "code",
   "execution_count": 52,
   "id": "66f2532c",
   "metadata": {},
   "outputs": [],
   "source": [
    "# here sub strings are made seperated by commas"
   ]
  },
  {
   "cell_type": "code",
   "execution_count": null,
   "id": "c9f806f9",
   "metadata": {},
   "outputs": [],
   "source": []
  }
 ],
 "metadata": {
  "kernelspec": {
   "display_name": "Python 3",
   "language": "python",
   "name": "python3"
  },
  "language_info": {
   "codemirror_mode": {
    "name": "ipython",
    "version": 3
   },
   "file_extension": ".py",
   "mimetype": "text/x-python",
   "name": "python",
   "nbconvert_exporter": "python",
   "pygments_lexer": "ipython3",
   "version": "3.8.8"
  }
 },
 "nbformat": 4,
 "nbformat_minor": 5
}
