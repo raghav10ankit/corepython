{
 "cells": [
  {
   "cell_type": "markdown",
   "id": "ee8a0aa7",
   "metadata": {},
   "source": [
    "# Operators in Python"
   ]
  },
  {
   "cell_type": "markdown",
   "id": "6faa8a50",
   "metadata": {},
   "source": [
    "Some types of operators are: \n",
    "\n",
    "1. Arithmetic\n",
    "2. Logical\n",
    "3. Relational\n",
    "4. Assignment\n",
    "5. Conditional\n",
    "6. Bitwise\n",
    "\n",
    "<h4> Here we discuss only some imp operators"
   ]
  },
  {
   "cell_type": "markdown",
   "id": "156c6e68",
   "metadata": {},
   "source": [
    "# 1.Arithmetic Operators"
   ]
  },
  {
   "cell_type": "markdown",
   "id": "cccb8476",
   "metadata": {},
   "source": [
    "In arithmetic operators , we have +,-,*,/ "
   ]
  },
  {
   "cell_type": "markdown",
   "id": "b3f20aed",
   "metadata": {},
   "source": [
    "Examples of arithmetic operators"
   ]
  },
  {
   "cell_type": "code",
   "execution_count": 2,
   "id": "ed94419a",
   "metadata": {},
   "outputs": [
    {
     "name": "stdout",
     "output_type": "stream",
     "text": [
      "30\n"
     ]
    }
   ],
   "source": [
    "#for addition\n",
    "a = 10\n",
    "b = 20\n",
    "print(a+b)\n",
    "# here + operator adds the valuye of a and b"
   ]
  },
  {
   "cell_type": "code",
   "execution_count": 4,
   "id": "f09cc816",
   "metadata": {},
   "outputs": [
    {
     "name": "stdout",
     "output_type": "stream",
     "text": [
      "-10\n"
     ]
    }
   ],
   "source": [
    "# for subtract (-)\n",
    "a = 10\n",
    "b = 20\n",
    "print(a-b)\n",
    "# here - operator subtract the value of b from a"
   ]
  },
  {
   "cell_type": "code",
   "execution_count": 6,
   "id": "5ba79a67",
   "metadata": {},
   "outputs": [
    {
     "name": "stdout",
     "output_type": "stream",
     "text": [
      "200\n"
     ]
    }
   ],
   "source": [
    "# for multiplication (*)\n",
    "a = 10\n",
    "b = 20\n",
    "print(a*b)\n",
    "# here * operator multiplies the value of a and b"
   ]
  },
  {
   "cell_type": "code",
   "execution_count": 8,
   "id": "6302a757",
   "metadata": {},
   "outputs": [
    {
     "name": "stdout",
     "output_type": "stream",
     "text": [
      "6.666666666666667\n"
     ]
    }
   ],
   "source": [
    "# for division(/)\n",
    "a = 20\n",
    "b = 3\n",
    "print(a/b)\n",
    "# here / operators divide the value of a  by b\n"
   ]
  },
  {
   "cell_type": "markdown",
   "id": "b96cf4a4",
   "metadata": {},
   "source": [
    "# 2. Relational Operators"
   ]
  },
  {
   "cell_type": "markdown",
   "id": "7f1192be",
   "metadata": {},
   "source": [
    "Releation operators includes   (>,<,>=,<=,==,!=)"
   ]
  },
  {
   "cell_type": "code",
   "execution_count": 1,
   "id": "51492157",
   "metadata": {},
   "outputs": [
    {
     "name": "stdout",
     "output_type": "stream",
     "text": [
      "True\n"
     ]
    }
   ],
   "source": [
    "# for < smaller than\n",
    "a = 10\n",
    "b = 20\n",
    "print(a<b)\n",
    "# her eit gives the answer in true or false form"
   ]
  },
  {
   "cell_type": "code",
   "execution_count": 2,
   "id": "346dc3fb",
   "metadata": {},
   "outputs": [
    {
     "name": "stdout",
     "output_type": "stream",
     "text": [
      "False\n"
     ]
    }
   ],
   "source": [
    "# for > greater than\n",
    "\n",
    "a = 10\n",
    "b = 20\n",
    "print(a>b)"
   ]
  },
  {
   "cell_type": "code",
   "execution_count": 3,
   "id": "b79f0b3b",
   "metadata": {},
   "outputs": [
    {
     "name": "stdout",
     "output_type": "stream",
     "text": [
      "False\n"
     ]
    }
   ],
   "source": [
    "# for == (equals to)\n",
    "print(a==b)"
   ]
  },
  {
   "cell_type": "code",
   "execution_count": 4,
   "id": "9853f97e",
   "metadata": {},
   "outputs": [
    {
     "name": "stdout",
     "output_type": "stream",
     "text": [
      "True\n"
     ]
    }
   ],
   "source": [
    "# for != (not equals to)\n",
    "print(a!=b)"
   ]
  },
  {
   "cell_type": "markdown",
   "id": "400726d7",
   "metadata": {},
   "source": [
    "# 3. Logical Operators"
   ]
  },
  {
   "cell_type": "markdown",
   "id": "34e32819",
   "metadata": {},
   "source": [
    "In logical operators we have AND(&) , OR(|)"
   ]
  },
  {
   "cell_type": "code",
   "execution_count": 5,
   "id": "5d774905",
   "metadata": {},
   "outputs": [],
   "source": [
    "a = True\n",
    "b = False"
   ]
  },
  {
   "cell_type": "code",
   "execution_count": 7,
   "id": "3e74fbf1",
   "metadata": {},
   "outputs": [
    {
     "name": "stdout",
     "output_type": "stream",
     "text": [
      "False\n"
     ]
    }
   ],
   "source": [
    "# for & operator , in and operators if both condition is true then it gives true ,\n",
    "#if any one condition or both condtion are false then it gives false\n",
    "\n",
    "#eg: \n",
    "print(a&b)\n",
    "\n",
    "# here we have at least one false therefore it gives false"
   ]
  },
  {
   "cell_type": "code",
   "execution_count": 8,
   "id": "1ed2d8db",
   "metadata": {},
   "outputs": [
    {
     "name": "stdout",
     "output_type": "stream",
     "text": [
      "True\n"
     ]
    }
   ],
   "source": [
    "# for OR operators, in this if both condtion are false then only it gives false \n",
    "#else if there is any one condtion or both condtion are true then it gives true\n",
    "\n",
    "# eg:\n",
    "\n",
    "print(a|b)"
   ]
  },
  {
   "cell_type": "code",
   "execution_count": null,
   "id": "f05188ba",
   "metadata": {},
   "outputs": [],
   "source": []
  }
 ],
 "metadata": {
  "kernelspec": {
   "display_name": "Python 3",
   "language": "python",
   "name": "python3"
  },
  "language_info": {
   "codemirror_mode": {
    "name": "ipython",
    "version": 3
   },
   "file_extension": ".py",
   "mimetype": "text/x-python",
   "name": "python",
   "nbconvert_exporter": "python",
   "pygments_lexer": "ipython3",
   "version": "3.8.8"
  }
 },
 "nbformat": 4,
 "nbformat_minor": 5
}
