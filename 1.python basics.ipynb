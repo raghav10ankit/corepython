{
 "cells": [
  {
   "cell_type": "markdown",
   "id": "7b6526d9",
   "metadata": {},
   "source": [
    "# Introduction \n",
    "\n"
   ]
  },
  {
   "cell_type": "markdown",
   "id": "ebf8461f",
   "metadata": {},
   "source": [
    "First program"
   ]
  },
  {
   "cell_type": "code",
   "execution_count": 1,
   "id": "37b67748",
   "metadata": {},
   "outputs": [
    {
     "name": "stdout",
     "output_type": "stream",
     "text": [
      "Hello world\n"
     ]
    }
   ],
   "source": [
    "print(\"Hello world\")"
   ]
  },
  {
   "cell_type": "markdown",
   "id": "e276f53c",
   "metadata": {},
   "source": [
    "# Variables"
   ]
  },
  {
   "cell_type": "markdown",
   "id": "9b1f27bf",
   "metadata": {},
   "source": [
    "Variables are temporary storage space with stored the data or values"
   ]
  },
  {
   "cell_type": "code",
   "execution_count": 4,
   "id": "f24e2301",
   "metadata": {},
   "outputs": [
    {
     "name": "stdout",
     "output_type": "stream",
     "text": [
      "Ankit\n"
     ]
    }
   ],
   "source": [
    "# eg: here name is a variable which store value \"Ankit\"\n",
    "\n",
    "name = \"Ankit\"\n",
    "print(name)"
   ]
  },
  {
   "cell_type": "code",
   "execution_count": 6,
   "id": "9de3dc2a",
   "metadata": {},
   "outputs": [
    {
     "name": "stdout",
     "output_type": "stream",
     "text": [
      "Raghav\n"
     ]
    }
   ],
   "source": [
    "# variable is temporary storage so it can be updated later\n",
    "name = \"Raghav\"\n",
    "# here name variable has another value which is \"raghav\"\n",
    "print(name)"
   ]
  },
  {
   "cell_type": "markdown",
   "id": "7cd6429e",
   "metadata": {},
   "source": [
    "# Data Type"
   ]
  },
  {
   "cell_type": "markdown",
   "id": "85d891d3",
   "metadata": {},
   "source": [
    "Data type is a type of a data or value which tells the properties of data means it tells in what manner data or value works\n",
    "\n",
    "These are:\n",
    "\n",
    "1. Int\n",
    "2. Float\n",
    "3. String\n",
    "4. List\n",
    "5. Tuple\n",
    "6. Dictionary\n",
    "7. Set\n",
    "8. Complex\n",
    "9. Boolean"
   ]
  },
  {
   "cell_type": "markdown",
   "id": "6b3f4adc",
   "metadata": {},
   "source": [
    "Examples of all these:\n"
   ]
  },
  {
   "cell_type": "code",
   "execution_count": 7,
   "id": "eddb0036",
   "metadata": {},
   "outputs": [
    {
     "name": "stdout",
     "output_type": "stream",
     "text": [
      "10\n",
      "<class 'int'>\n"
     ]
    }
   ],
   "source": [
    "# 1. Integer\n",
    "i = 10\n",
    "print(i)\n",
    "print(type(i))"
   ]
  },
  {
   "cell_type": "code",
   "execution_count": 8,
   "id": "a770c10b",
   "metadata": {},
   "outputs": [
    {
     "name": "stdout",
     "output_type": "stream",
     "text": [
      "10.5\n",
      "<class 'float'>\n"
     ]
    }
   ],
   "source": [
    "# 2. Float \n",
    "f = 10.50\n",
    "print(f)\n",
    "print(type(f))"
   ]
  },
  {
   "cell_type": "code",
   "execution_count": 9,
   "id": "6f620fd5",
   "metadata": {},
   "outputs": [
    {
     "name": "stdout",
     "output_type": "stream",
     "text": [
      "Ankit Raghav\n",
      "<class 'str'>\n"
     ]
    }
   ],
   "source": [
    "# String\n",
    "s = \"Ankit Raghav\"\n",
    "print(s)\n",
    "print(type(s))"
   ]
  },
  {
   "cell_type": "code",
   "execution_count": 11,
   "id": "b5408598",
   "metadata": {},
   "outputs": [
    {
     "name": "stdout",
     "output_type": "stream",
     "text": [
      "(3+4j)\n",
      "<class 'complex'>\n"
     ]
    }
   ],
   "source": [
    "# Complex \n",
    "c = 3+4j\n",
    "print(c)\n",
    "print(type(c))"
   ]
  },
  {
   "cell_type": "code",
   "execution_count": null,
   "id": "5f0079fa",
   "metadata": {},
   "outputs": [],
   "source": []
  },
  {
   "cell_type": "code",
   "execution_count": 10,
   "id": "5ff86253",
   "metadata": {},
   "outputs": [
    {
     "name": "stdout",
     "output_type": "stream",
     "text": [
      "True\n",
      "<class 'bool'>\n"
     ]
    }
   ],
   "source": [
    "# Boolean\n",
    "b = True\n",
    "print(b)\n",
    "print(type(b))"
   ]
  },
  {
   "cell_type": "markdown",
   "id": "5a054706",
   "metadata": {},
   "source": [
    " <h4>We will discuss list , tuple , dictionary , set in details later"
   ]
  }
 ],
 "metadata": {
  "kernelspec": {
   "display_name": "Python 3",
   "language": "python",
   "name": "python3"
  },
  "language_info": {
   "codemirror_mode": {
    "name": "ipython",
    "version": 3
   },
   "file_extension": ".py",
   "mimetype": "text/x-python",
   "name": "python",
   "nbconvert_exporter": "python",
   "pygments_lexer": "ipython3",
   "version": "3.8.8"
  }
 },
 "nbformat": 4,
 "nbformat_minor": 5
}
