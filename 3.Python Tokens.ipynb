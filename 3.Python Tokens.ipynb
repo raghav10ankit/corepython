{
 "cells": [
  {
   "cell_type": "markdown",
   "id": "766ac4e1",
   "metadata": {},
   "source": [
    "# In python , we have various tokens:"
   ]
  },
  {
   "cell_type": "markdown",
   "id": "cee860bd",
   "metadata": {},
   "source": [
    "<h4> Tokens are the smallest component of a python program\n",
    " <h5> Some different tokens are : Keywords , Identifiers , Literals , Operators"
   ]
  },
  {
   "cell_type": "markdown",
   "id": "0ad7a6ab",
   "metadata": {},
   "source": [
    "Operators is done in previous topic so here we do only other three"
   ]
  },
  {
   "cell_type": "markdown",
   "id": "e15554ab",
   "metadata": {},
   "source": [
    "<h3> 1. Keywords"
   ]
  },
  {
   "cell_type": "markdown",
   "id": "7c2007c1",
   "metadata": {},
   "source": [
    "They are special reserved words which cannot be used in other codes"
   ]
  },
  {
   "cell_type": "markdown",
   "id": "bfb909fa",
   "metadata": {},
   "source": [
    "<h4>Some examples are: "
   ]
  },
  {
   "cell_type": "markdown",
   "id": "8a88f99b",
   "metadata": {},
   "source": [
    "false , true , and , or , return , while , def , not , for , if elif , esle and many more"
   ]
  },
  {
   "cell_type": "code",
   "execution_count": 1,
   "id": "65b576a5",
   "metadata": {},
   "outputs": [
    {
     "ename": "SyntaxError",
     "evalue": "cannot assign to True (<ipython-input-1-dc27272f4ea9>, line 3)",
     "output_type": "error",
     "traceback": [
      "\u001b[1;36m  File \u001b[1;32m\"<ipython-input-1-dc27272f4ea9>\"\u001b[1;36m, line \u001b[1;32m3\u001b[0m\n\u001b[1;33m    True = \" Raghav\"\u001b[0m\n\u001b[1;37m    ^\u001b[0m\n\u001b[1;31mSyntaxError\u001b[0m\u001b[1;31m:\u001b[0m cannot assign to True\n"
     ]
    }
   ],
   "source": [
    "# eg: \n",
    "\n",
    "True = \" Raghav\"\n",
    "\n",
    "# here we make a variable names True , but when e run it , it shows an error \n",
    "# because True is a keyword which has a specific roles to do"
   ]
  },
  {
   "cell_type": "markdown",
   "id": "28d09cfa",
   "metadata": {},
   "source": [
    "<h5> We can check all other keywords also "
   ]
  },
  {
   "cell_type": "markdown",
   "id": "bbaf6cf6",
   "metadata": {},
   "source": [
    "<h3>2. Identifiers"
   ]
  },
  {
   "cell_type": "markdown",
   "id": "6e7b707e",
   "metadata": {},
   "source": [
    "Identifiers are the names which we used for variables , functions , objects , class etc. \n",
    "All the names we used for them are act as identifiers as it identifies them from each other"
   ]
  },
  {
   "cell_type": "markdown",
   "id": "1e9f2a3d",
   "metadata": {},
   "source": [
    "<h5> Rules: \n",
    "    <h6> 1. First letter cannot be a digit\n",
    "    <h6> 2. Identifiers are case sensitive\n",
    "    <h6> 3. No special characters used in this except underscore(_)   "
   ]
  },
  {
   "cell_type": "code",
   "execution_count": 2,
   "id": "1ad388eb",
   "metadata": {},
   "outputs": [
    {
     "name": "stdout",
     "output_type": "stream",
     "text": [
      " raghav\n"
     ]
    }
   ],
   "source": [
    "# Eg: \n",
    "\n",
    "student = \" raghav\"\n",
    "\n",
    "Student = \"Ankit\"\n",
    "\n",
    "print(student)"
   ]
  },
  {
   "cell_type": "code",
   "execution_count": 3,
   "id": "244e5cbc",
   "metadata": {},
   "outputs": [
    {
     "name": "stdout",
     "output_type": "stream",
     "text": [
      "Ankit\n"
     ]
    }
   ],
   "source": [
    "print(Student)"
   ]
  },
  {
   "cell_type": "code",
   "execution_count": 4,
   "id": "9e3ad887",
   "metadata": {},
   "outputs": [],
   "source": [
    "# Above we find that both variables print diffrenet values as they are case sensitive \n",
    "# so here \"students\" and \"Studenst\" acts as two different variables\n"
   ]
  },
  {
   "cell_type": "markdown",
   "id": "cbd6a677",
   "metadata": {},
   "source": [
    "<h3>3. Literals"
   ]
  },
  {
   "cell_type": "markdown",
   "id": "94f2b4a7",
   "metadata": {},
   "source": [
    "<h4> Literals are constants i python which cannot be changed . Thses are the values which we stored in variables"
   ]
  },
  {
   "cell_type": "code",
   "execution_count": 5,
   "id": "19738de2",
   "metadata": {},
   "outputs": [],
   "source": [
    "# eg: \n",
    "\n",
    "name = \"Raghav\"\n",
    "\n",
    "# here \"raghav\" is a literals which assign to variales and twe cannot change this \"raghav\""
   ]
  },
  {
   "cell_type": "code",
   "execution_count": null,
   "id": "60250671",
   "metadata": {},
   "outputs": [],
   "source": []
  }
 ],
 "metadata": {
  "kernelspec": {
   "display_name": "Python 3",
   "language": "python",
   "name": "python3"
  },
  "language_info": {
   "codemirror_mode": {
    "name": "ipython",
    "version": 3
   },
   "file_extension": ".py",
   "mimetype": "text/x-python",
   "name": "python",
   "nbconvert_exporter": "python",
   "pygments_lexer": "ipython3",
   "version": "3.8.8"
  }
 },
 "nbformat": 4,
 "nbformat_minor": 5
}
